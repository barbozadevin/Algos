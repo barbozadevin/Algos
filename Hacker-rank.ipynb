{
 "cells": [
  {
   "cell_type": "code",
   "execution_count": null,
   "metadata": {},
   "outputs": [],
   "source": [
    "if __name__ == '__main__':\n",
    "    main_list=[]\n",
    "    no_student=int(input())\n",
    "    for _ in range(no_student):\n",
    "        name = input()\n",
    "        score = float(input())\n",
    "        main_list.append([name,score])\n",
    "        \n",
    "#     print(f'Main : {main_list}')\n",
    "    main_list.sort(key=lambda x: (x[1],x[0]))\n",
    "#     print(f'Sorted : {main_list}')\n",
    "    \n",
    "    minimum = main_list[0][1]\n",
    "    \n",
    "    i=0\n",
    "    second_min=[]\n",
    "    while minimum==main_list[i][1]:\n",
    "#         print(main_list[i])\n",
    "        second_min.append(main_list[i])\n",
    "        i=i+1\n",
    "            \n",
    "    for one_student in second_min:\n",
    "        main_list.remove(one_student)  \n",
    "    \n",
    "    new_min = main_list[0][1]\n",
    "#     print(f'New min : {new_min}')\n",
    "    min_names=[]\n",
    "    for student in main_list:\n",
    "        if student[1]==new_min:\n",
    "            min_names.append(student[0])\n",
    "            print(student[0])\n"
   ]
  },
  {
   "cell_type": "code",
   "execution_count": null,
   "metadata": {},
   "outputs": [],
   "source": [
    "import math\n",
    "import os\n",
    "import random\n",
    "import re\n",
    "import sys\n",
    "\n",
    "\n",
    "name=\"mame raju\"\n",
    "    "
   ]
  },
  {
   "cell_type": "code",
   "execution_count": null,
   "metadata": {},
   "outputs": [],
   "source": [
    "all = name.split(\" \")"
   ]
  },
  {
   "cell_type": "code",
   "execution_count": null,
   "metadata": {},
   "outputs": [],
   "source": [
    "new=[]\n",
    "for word in all:\n",
    "    new.append(word.capitalize())"
   ]
  },
  {
   "cell_type": "code",
   "execution_count": null,
   "metadata": {},
   "outputs": [],
   "source": [
    "new"
   ]
  },
  {
   "cell_type": "code",
   "execution_count": null,
   "metadata": {},
   "outputs": [],
   "source": [
    "string=''\n",
    "for word in new:\n",
    "    string=string+word+\" \""
   ]
  },
  {
   "cell_type": "code",
   "execution_count": null,
   "metadata": {},
   "outputs": [],
   "source": [
    "string"
   ]
  },
  {
   "cell_type": "code",
   "execution_count": null,
   "metadata": {},
   "outputs": [],
   "source": [
    "last = string.strip()"
   ]
  },
  {
   "cell_type": "code",
   "execution_count": null,
   "metadata": {},
   "outputs": [],
   "source": [
    "from itertools import combinations_with_replacement  \n",
    "print (\"All the combination of string in sorted order(without replacement) is:\")  \n",
    "print(list(combinations('BANANA',2)))  "
   ]
  },
  {
   "cell_type": "code",
   "execution_count": null,
   "metadata": {},
   "outputs": [],
   "source": []
  },
  {
   "cell_type": "code",
   "execution_count": null,
   "metadata": {},
   "outputs": [],
   "source": [
    "string=\"BANANANAAAS\"\n",
    "all = [string[x:y] for x, y in combinations_with_replacement(range(len(string) + 1), r = 2)] \n",
    "start_vowel=[]\n",
    "start_conso=[]\n",
    "vowels=['A','E','I','O','U']\n",
    "for word in all:\n",
    "    if word:\n",
    "        if word[0] in vowels:\n",
    "            start_vowel.append(word)\n",
    "        else:\n",
    "            start_conso.append(word)\n",
    "            \n",
    "vowel_sets = list(set(start_vowel))\n",
    "conso_sets = list(set(start_conso))\n",
    "# print(vowel_sets)\n",
    "# print(conso_sets)\n",
    "\n",
    "score_vowels=0\n",
    "for vo in vowel_sets:\n",
    "#     print(f'{vo} : {test_str.count(vo)}')\n",
    "    score_vowels+=string.count(vo)\n",
    "# print(score_vowels)\n",
    "    \n",
    "    \n",
    "score_conso=0\n",
    "for co in conso_sets:\n",
    "#     print(f'{co} : {test_str.count(co)}')\n",
    "    score_conso+=string.count(co)\n",
    "# print(score_conso)\n",
    "if score_vowels>score_conso:\n",
    "    print(f'Kevin {score_vowels+1}')\n",
    "elif score_vowels<score_conso:\n",
    "    print(f'Stuart {score_conso}')\n",
    "else:\n",
    "    print('Draw')"
   ]
  },
  {
   "cell_type": "code",
   "execution_count": null,
   "metadata": {},
   "outputs": [],
   "source": [
    "S = input().strip()\n",
    "S_length = len(S)\n",
    "player1, player2 = 0,0\n",
    "\n",
    "for i in range(S_length):\n",
    "    if S[i] in \"AEIOU\":\n",
    "        player1 += S_length - i\n",
    "    else:\n",
    "        player2 += S_length - i        \n",
    "        \n",
    "if player1 > player2:\n",
    "    print(\"Kevin\", player1)\n",
    "elif player1 < player2:\n",
    "    print(\"Stuart\", player2)\n",
    "else:\n",
    "    print(\"Draw\")"
   ]
  },
  {
   "cell_type": "code",
   "execution_count": null,
   "metadata": {},
   "outputs": [],
   "source": [
    "line = input()\n",
    "n , m = int(line.split(\" \")[0]) , int(line.split(\" \")[1])\n",
    "\n",
    "n_all = []\n",
    "m_all = []\n",
    "for i in range(n):\n",
    "    n_number = input()\n",
    "    n_all.append(n_number)\n",
    "    \n",
    "for i in range(m):\n",
    "    m_number = input()\n",
    "    m_all.append(m_number)\n",
    "    \n",
    "listing=[]\n",
    "for number in m_all:\n",
    "   listing.append([i for i, j in enumerate(n_all) if j == number])\n",
    "\n",
    "for list_element in listing:\n",
    "    string=''\n",
    "    if list_element:\n",
    "        for number in list_element:\n",
    "            string += str(number+1)+' '\n",
    "        print(string.strip())\n",
    "    else:\n",
    "        print(\"-1\")"
   ]
  },
  {
   "cell_type": "code",
   "execution_count": null,
   "metadata": {},
   "outputs": [],
   "source": [
    "for list_element in listing:\n",
    "    string=''\n",
    "    for number in list_element:\n",
    "        string += str(number)+' '\n",
    "    print(string.strip())"
   ]
  },
  {
   "cell_type": "code",
   "execution_count": null,
   "metadata": {},
   "outputs": [],
   "source": [
    "from collections import namedtuple\n",
    "Marks_row = namedtuple('Marks_row','ID MARKS NAME CLASS')\n",
    "\n",
    "all_rows = []\n",
    "\n",
    "first = Marks_row(ID=1,MARKS=100,NAME=\"Prince\",CLASS=\"A\")\n",
    "all_rows.append(first)\n",
    "\n",
    "print(all_rows)"
   ]
  },
  {
   "cell_type": "code",
   "execution_count": 5,
   "metadata": {},
   "outputs": [
    {
     "name": "stdout",
     "output_type": "stream",
     "text": [
      "PO FR 7\n"
     ]
    }
   ],
   "source": [
    "*names, price = [x for x in input().split(' ') if x]"
   ]
  },
  {
   "cell_type": "code",
   "execution_count": 13,
   "metadata": {},
   "outputs": [
    {
     "name": "stdout",
     "output_type": "stream",
     "text": [
      "     #\n",
      "    ##\n",
      "   ###\n",
      "  ####\n",
      " #####\n",
      "######\n"
     ]
    }
   ],
   "source": [
    "val=1\n",
    "n=5\n",
    "for i in range(n+1):\n",
    "    res1 = \" \" *(n-i)   # putting - instead of space to test\n",
    "    res2 = \"#\" *val\n",
    "    print(res1 + res2)\n",
    "    val = val+1"
   ]
  },
  {
   "cell_type": "code",
   "execution_count": 1,
   "metadata": {},
   "outputs": [
    {
     "name": "stdout",
     "output_type": "stream",
     "text": [
      "4\n",
      " \n",
      "1\n",
      "121\n",
      "12321\n",
      "1234321\n"
     ]
    }
   ],
   "source": [
    "for i in range(0,int(input())+1): #More than 2 lines will result in 0 score. Do not leave a blank line also\n",
    "    if i==0:\n",
    "        print(\" \")\n",
    "        continue\n",
    "    else:\n",
    "        listing=''\n",
    "        last_number = 0\n",
    "        for j in range(1,i+1):\n",
    "            listing+=str(j)\n",
    "            last_number = j\n",
    "        \n",
    "        while True:\n",
    "            last_number -= 1\n",
    "            if last_number != 0 :\n",
    "                listing+=str(last_number)\n",
    "            else:\n",
    "                break\n",
    "        print(listing)\n",
    "\n",
    "\n"
   ]
  },
  {
   "cell_type": "code",
   "execution_count": 6,
   "metadata": {},
   "outputs": [
    {
     "data": {
      "text/plain": [
       "121.0"
      ]
     },
     "execution_count": 6,
     "metadata": {},
     "output_type": "execute_result"
    }
   ],
   "source": [
    "((10**2-1)/(9))**2"
   ]
  },
  {
   "cell_type": "code",
   "execution_count": 7,
   "metadata": {},
   "outputs": [
    {
     "data": {
      "text/plain": [
       "12321"
      ]
     },
     "execution_count": 7,
     "metadata": {},
     "output_type": "execute_result"
    }
   ],
   "source": [
    "111*111"
   ]
  },
  {
   "cell_type": "code",
   "execution_count": 8,
   "metadata": {},
   "outputs": [
    {
     "name": "stdout",
     "output_type": "stream",
     "text": [
      "7 3\n",
      "Tsi\n",
      "h%x\n",
      "i #\n",
      "sm \n",
      "$a\n",
      "#t%\n",
      "ir!\n"
     ]
    }
   ],
   "source": [
    "#!/bin/python3\n",
    "\n",
    "import math\n",
    "import os\n",
    "import random\n",
    "import re\n",
    "import sys\n",
    "\n",
    "\n",
    "\n",
    "\n",
    "first_multiple_input = input().rstrip().split()\n",
    "\n",
    "n = int(first_multiple_input[0])\n",
    "\n",
    "m = int(first_multiple_input[1])\n",
    "\n",
    "matrix = []\n",
    "\n",
    "for _ in range(n):\n",
    "    matrix_item = input()\n",
    "    matrix.append(matrix_item)\n"
   ]
  },
  {
   "cell_type": "code",
   "execution_count": 10,
   "metadata": {},
   "outputs": [
    {
     "name": "stdout",
     "output_type": "stream",
     "text": [
      "24:45:54\n",
      "24:45:54\n"
     ]
    }
   ],
   "source": [
    "#!/bin/python3\n",
    "\n",
    "import os\n",
    "import sys\n",
    "\n",
    "#\n",
    "# Complete the timeConversion function below.\n",
    "#\n",
    "def timeConversion(s):\n",
    "    #\n",
    "    # \n",
    "    arr = s.split(':')\n",
    "    if arr[2][2:] == 'PM':\n",
    "        arr[0] = str(int(arr[0])+12)\n",
    "        \n",
    "    if arr[2][2:] == 'AM' and arr[0]==str(12):\n",
    "        arr[0] = '00'\n",
    "        \n",
    "    arr[2] = arr[2][:2]\n",
    "    \n",
    "    new = ':'.join(arr)\n",
    "    print(new)\n",
    "    return new\n",
    "    #\n",
    "\n",
    "if __name__ == '__main__':\n",
    "\n",
    "    s = '12:45:54PM'\n",
    "\n",
    "    result = timeConversion(s)\n",
    "    print(result)\n"
   ]
  },
  {
   "cell_type": "code",
   "execution_count": 21,
   "metadata": {},
   "outputs": [
    {
     "data": {
      "text/plain": [
       "['Tsi', 'h%x', 'i #', 'sm ', '$a', '#t%', 'ir!']"
      ]
     },
     "execution_count": 21,
     "metadata": {},
     "output_type": "execute_result"
    }
   ],
   "source": [
    "matrix"
   ]
  },
  {
   "cell_type": "code",
   "execution_count": null,
   "metadata": {},
   "outputs": [],
   "source": [
    "score_conso=0\n",
    "for co in conso_sets:\n",
    "    print(f'{co} : {test_str.count(co)}')\n",
    "    score_conso+=test_str.count(co)\n",
    "print(score_conso)"
   ]
  },
  {
   "cell_type": "code",
   "execution_count": 23,
   "metadata": {},
   "outputs": [
    {
     "name": "stdout",
     "output_type": "stream",
     "text": [
      "10.25\n",
      "17\n",
      "5\n",
      "12.504999999999999\n",
      "12\n"
     ]
    }
   ],
   "source": [
    "#!/bin/python3\n",
    "\n",
    "import math\n",
    "import os\n",
    "import random\n",
    "import re\n",
    "import sys\n",
    "\n",
    "# Complete the encryption function below.\n",
    "def encryption(s):\n",
    "    \n",
    "\n",
    "if __name__ == '__main__':\n",
    "\n",
    "    s = 'have a nice day'\n",
    "\n",
    "    result = encryption(s)\n"
   ]
  },
  {
   "cell_type": "raw",
   "metadata": {},
   "source": []
  },
  {
   "cell_type": "code",
   "execution_count": 2,
   "metadata": {},
   "outputs": [
    {
     "name": "stdout",
     "output_type": "stream",
     "text": [
      "3 4\n"
     ]
    }
   ],
   "source": [
    "import re\n",
    "from math import sqrt\n",
    "import math\n",
    "s = 'feedthedog'\n",
    "s = re.sub(' ','',s)\n",
    "square_root = sqrt(len(s))\n",
    "m= math.floor(square_root)\n",
    "n= math.ceil(square_root)\n",
    "\n",
    "while m*n < len(s):\n",
    "    m+=1\n",
    "    \n",
    "print(m,n)\n",
    "\n",
    "arr = []\n",
    "for _ in range(m):\n",
    "    arr.append([])\n",
    "    \n",
    "pointer = 0 \n",
    "for i in range(m):\n",
    "    for j in range(n):\n",
    "        arr[i].append(s[pointer])\n",
    "        pointer+=1\n",
    "        if pointer == len(s):\n",
    "            break\n",
    "    if pointer == len(s):\n",
    "        break\n",
    "        \n"
   ]
  },
  {
   "cell_type": "code",
   "execution_count": 32,
   "metadata": {},
   "outputs": [
    {
     "data": {
      "text/plain": [
       "[['f', 'e', 'e', 'd'], ['t', 'h', 'e', 'd'], ['o', 'g']]"
      ]
     },
     "execution_count": 32,
     "metadata": {},
     "output_type": "execute_result"
    }
   ],
   "source": [
    "arr"
   ]
  },
  {
   "cell_type": "code",
   "execution_count": 5,
   "metadata": {},
   "outputs": [
    {
     "name": "stdout",
     "output_type": "stream",
     "text": [
      "fto \n",
      "fto ehg \n",
      "fto ehg ee \n",
      "fto ehg ee dd \n"
     ]
    }
   ],
   "source": [
    "start=0\n",
    "\n",
    "string_1 = ''\n",
    "for _ in range(n):\n",
    "    for i in range(m):\n",
    "        if start < len(arr[i]):\n",
    "#             print(arr[i][start])\n",
    "            string_1+=arr[i][start]\n",
    "    start+=1\n",
    "    string_1+=' '\n",
    "    print(string_1)"
   ]
  },
  {
   "cell_type": "code",
   "execution_count": null,
   "metadata": {},
   "outputs": [],
   "source": [
    "for i in range(len(string_1)):\n",
    "    if i==0:\n",
    "        continue\n",
    "    elif (i+1)%3==0:\n",
    "        "
   ]
  },
  {
   "cell_type": "code",
   "execution_count": null,
   "metadata": {},
   "outputs": [],
   "source": [
    "#!/bin/python3\n",
    "\n",
    "import math\n",
    "import os\n",
    "import random\n",
    "import re\n",
    "import sys\n",
    "\n",
    "# Complete the queensAttack function below.\n",
    "def queensAttack(n, k, r_q, c_q, obstacles):\n",
    "    \n",
    "    return 0\n",
    "\n",
    "if __name__ == '__main__':\n",
    "\n",
    "    nk = input().split()\n",
    "\n",
    "    n = int(nk[0])\n",
    "\n",
    "    k = int(nk[1])\n",
    "\n",
    "    r_qC_q = input().split()\n",
    "\n",
    "    r_q = int(r_qC_q[0])\n",
    "\n",
    "    c_q = int(r_qC_q[1])\n",
    "\n",
    "    obstacles = []\n",
    "\n",
    "    for _ in range(k):\n",
    "        obstacles.append(list(map(int, input().rstrip().split())))\n",
    "\n",
    "    result = queensAttack(n, k, r_q, c_q, obstacles)\n",
    "\n"
   ]
  },
  {
   "cell_type": "code",
   "execution_count": 35,
   "metadata": {},
   "outputs": [
    {
     "name": "stdout",
     "output_type": "stream",
     "text": [
      "5 3\n",
      "4 3\n",
      "5 5\n",
      "4 2\n",
      "2 3\n"
     ]
    }
   ],
   "source": [
    "nk = input().split()\n",
    "\n",
    "n = int(nk[0])\n",
    "\n",
    "k = int(nk[1])\n",
    "\n",
    "r_qC_q = input().split()\n",
    "\n",
    "r_q = int(r_qC_q[0])\n",
    "\n",
    "c_q = int(r_qC_q[1])\n",
    "\n",
    "obstacles = []\n",
    "\n",
    "for _ in range(k):\n",
    "    obstacles.append(list(map(int, input().rstrip().split())))\n",
    "\n",
    "    \n",
    "arr=[]\n",
    "for i in range(n):\n",
    "    arr.append([])\n",
    "\n",
    "for i in range(n):\n",
    "    for j in range(n):\n",
    "        arr[i].append(0)\n",
    "        \n",
    "arr[r_q-1][c_q-1] = 99\n",
    "for obs in obstacles:\n",
    "    arr[obs[0]-1][obs[1]-1] = -1\n",
    "    \n",
    "queens_position_row = r_q-1\n",
    "queens_position_column = c_q-1\n",
    "\n",
    "count=0\n",
    "#UP = > \n",
    "row = queens_position_row-1\n",
    "column = queens_position_column\n",
    "while(row < n and row > -1 and column > -1 and column < n):\n",
    "    if arr[row][column] != -1:\n",
    "        count+=1\n",
    "        arr[row][column] = 55\n",
    "        row-=1\n",
    "    else:\n",
    "        break\n",
    "        \n",
    "row = queens_position_row+1\n",
    "column = queens_position_column\n",
    "while(row < n and row > -1 and column > -1 and column < n):\n",
    "    if arr[row][column] != -1:\n",
    "        count+=1\n",
    "        arr[row][column] = 55\n",
    "        row+=1\n",
    "    else:\n",
    "        break\n",
    "        \n",
    "row = queens_position_row\n",
    "column = queens_position_column+1\n",
    "while(row < n and row > -1 and column > -1 and column < n):\n",
    "    if arr[row][column] != -1:\n",
    "        count+=1\n",
    "        arr[row][column] = 55\n",
    "        column+=1\n",
    "    else:\n",
    "        break\n",
    "        \n",
    "row = queens_position_row\n",
    "column = queens_position_column-1\n",
    "while(row < n and row > -1 and column > -1 and column < n):\n",
    "    if arr[row][column] != -1:\n",
    "        count+=1\n",
    "        arr[row][column] = 55\n",
    "        column-=1\n",
    "    else:\n",
    "        break\n",
    "        \n",
    "        \n",
    "row = queens_position_row+1\n",
    "column = queens_position_column+1\n",
    "while(row < n and row > -1 and column > -1 and column < n):\n",
    "    if arr[row][column] != -1:\n",
    "        count+=1\n",
    "        arr[row][column] = 55\n",
    "        column+=1\n",
    "        row+=1\n",
    "    else:\n",
    "        break\n",
    "\n",
    "row = queens_position_row+1\n",
    "column = queens_position_column-1\n",
    "while(row < n and row > -1 and column > -1 and column < n):\n",
    "    if arr[row][column] != -1:\n",
    "        count+=1\n",
    "        arr[row][column] = 55\n",
    "        column-=1\n",
    "        row+=1\n",
    "    else:\n",
    "        break\n",
    "        \n",
    "row = queens_position_row-1\n",
    "column = queens_position_column+1\n",
    "while(row < n and row > -1 and column > -1 and column < n):\n",
    "    if arr[row][column] != -1:\n",
    "        count+=1\n",
    "        arr[row][column] = 55\n",
    "        column+=1\n",
    "        row-=1\n",
    "    else:\n",
    "        break\n",
    "        \n",
    "row = queens_position_row-1\n",
    "column = queens_position_column-1\n",
    "while(row < n and row > -1 and column > -1 and column < n):\n",
    "    if arr[row][column] != -1:\n",
    "        count+=1\n",
    "        arr[row][column] = 55\n",
    "        column-=1\n",
    "        row-=1\n",
    "    else:\n",
    "        break\n",
    "        \n",
    "        \n",
    "result = count\n",
    "\n",
    "\n"
   ]
  },
  {
   "cell_type": "code",
   "execution_count": 69,
   "metadata": {},
   "outputs": [
    {
     "name": "stdout",
     "output_type": "stream",
     "text": [
      "5 3\n",
      "4 3\n",
      "5 5\n",
      "4 2\n",
      "2 3\n"
     ]
    }
   ],
   "source": [
    "nk = input().split()\n",
    "\n",
    "n = int(nk[0])\n",
    "\n",
    "k = int(nk[1])\n",
    "\n",
    "r_qC_q = input().split()\n",
    "\n",
    "r_q = int(r_qC_q[0])\n",
    "\n",
    "c_q = int(r_qC_q[1])\n",
    "\n",
    "obstacles = []\n",
    "\n",
    "for _ in range(k):\n",
    "    obstacles.append(list(map(int, input().rstrip().split())))\n",
    "\n",
    "    \n",
    "arr=[]\n",
    "for i in range(n):\n",
    "    arr.append([])\n",
    "\n",
    "for i in range(n):\n",
    "    for j in range(n):\n",
    "        arr[i].append(0)\n",
    "        "
   ]
  },
  {
   "cell_type": "code",
   "execution_count": null,
   "metadata": {},
   "outputs": [],
   "source": []
  },
  {
   "cell_type": "code",
   "execution_count": 70,
   "metadata": {},
   "outputs": [
    {
     "data": {
      "text/plain": [
       "[[5, 5], [4, 2], [2, 3]]"
      ]
     },
     "execution_count": 70,
     "metadata": {},
     "output_type": "execute_result"
    }
   ],
   "source": [
    "obstacles"
   ]
  },
  {
   "cell_type": "code",
   "execution_count": 71,
   "metadata": {},
   "outputs": [
    {
     "data": {
      "text/plain": [
       "(4, 3)"
      ]
     },
     "execution_count": 71,
     "metadata": {},
     "output_type": "execute_result"
    }
   ],
   "source": [
    "r_q,c_q"
   ]
  },
  {
   "cell_type": "code",
   "execution_count": 72,
   "metadata": {},
   "outputs": [],
   "source": [
    "arr=[]\n",
    "for i in range(n):\n",
    "    arr.append([])\n",
    "\n",
    "for i in range(n):\n",
    "    for j in range(n):\n",
    "        arr[i].append(0)"
   ]
  },
  {
   "cell_type": "code",
   "execution_count": 73,
   "metadata": {},
   "outputs": [
    {
     "data": {
      "text/plain": [
       "[[0, 0, 0, 0, 0],\n",
       " [0, 0, 0, 0, 0],\n",
       " [0, 0, 0, 0, 0],\n",
       " [0, 0, 0, 0, 0],\n",
       " [0, 0, 0, 0, 0]]"
      ]
     },
     "execution_count": 73,
     "metadata": {},
     "output_type": "execute_result"
    }
   ],
   "source": [
    "arr"
   ]
  },
  {
   "cell_type": "code",
   "execution_count": 40,
   "metadata": {},
   "outputs": [],
   "source": [
    "arr[r_q-1][c_q-1] = 99"
   ]
  },
  {
   "cell_type": "code",
   "execution_count": 41,
   "metadata": {},
   "outputs": [],
   "source": [
    "for obs in obstacles:\n",
    "    arr[obs[0]-1][obs[1]-1] = -1"
   ]
  },
  {
   "cell_type": "code",
   "execution_count": 42,
   "metadata": {},
   "outputs": [
    {
     "data": {
      "text/plain": [
       "[[0, 0, 0, 0, 0],\n",
       " [0, 0, -1, 0, 0],\n",
       " [0, 0, 0, 0, 0],\n",
       " [0, -1, 99, 0, 0],\n",
       " [0, 0, 0, 0, -1]]"
      ]
     },
     "execution_count": 42,
     "metadata": {},
     "output_type": "execute_result"
    }
   ],
   "source": [
    "arr"
   ]
  },
  {
   "cell_type": "code",
   "execution_count": 43,
   "metadata": {},
   "outputs": [],
   "source": [
    "queens_position_row = r_q-1\n",
    "queens_position_column = c_q-1\n",
    "\n",
    "count=0\n",
    "#UP = > \n",
    "row = queens_position_row-1\n",
    "column = queens_position_column\n",
    "while(row < n and row > -1 and column > -1 and column < n):\n",
    "    if arr[row][column] != -1:\n",
    "        count+=1\n",
    "        arr[row][column] = 55\n",
    "        row-=1\n",
    "    else:\n",
    "        break\n",
    "        \n"
   ]
  },
  {
   "cell_type": "code",
   "execution_count": 44,
   "metadata": {},
   "outputs": [],
   "source": [
    "row = queens_position_row+1\n",
    "column = queens_position_column\n",
    "while(row < n and row > -1 and column > -1 and column < n):\n",
    "    if arr[row][column] != -1:\n",
    "        count+=1\n",
    "        arr[row][column] = 55\n",
    "        row+=1\n",
    "    else:\n",
    "        break"
   ]
  },
  {
   "cell_type": "code",
   "execution_count": null,
   "metadata": {},
   "outputs": [],
   "source": []
  },
  {
   "cell_type": "code",
   "execution_count": 45,
   "metadata": {},
   "outputs": [],
   "source": [
    "row = queens_position_row\n",
    "column = queens_position_column+1\n",
    "while(row < n and row > -1 and column > -1 and column < n):\n",
    "    if arr[row][column] != -1:\n",
    "        count+=1\n",
    "        arr[row][column] = 55\n",
    "        column+=1\n",
    "    else:\n",
    "        break\n",
    "        \n",
    "row = queens_position_row\n",
    "column = queens_position_column-1\n",
    "while(row < n and row > -1 and column > -1 and column < n):\n",
    "    if arr[row][column] != -1:\n",
    "        count+=1\n",
    "        arr[row][column] = 55\n",
    "        column-=1\n",
    "    else:\n",
    "        break"
   ]
  },
  {
   "cell_type": "code",
   "execution_count": 46,
   "metadata": {},
   "outputs": [
    {
     "data": {
      "text/plain": [
       "[[0, 0, 0, 0, 0],\n",
       " [0, 0, -1, 0, 0],\n",
       " [0, 0, 55, 0, 0],\n",
       " [0, -1, 99, 55, 55],\n",
       " [0, 0, 55, 0, -1]]"
      ]
     },
     "execution_count": 46,
     "metadata": {},
     "output_type": "execute_result"
    }
   ],
   "source": [
    "arr"
   ]
  },
  {
   "cell_type": "code",
   "execution_count": 47,
   "metadata": {},
   "outputs": [],
   "source": [
    "row = queens_position_row+1\n",
    "column = queens_position_column+1\n",
    "while(row < n and row > -1 and column > -1 and column < n):\n",
    "    if arr[row][column] != -1:\n",
    "        count+=1\n",
    "        arr[row][column] = 55\n",
    "        column+=1\n",
    "        row+=1\n",
    "    else:\n",
    "        break\n",
    "\n",
    "row = queens_position_row+1\n",
    "column = queens_position_column-1\n",
    "while(row < n and row > -1 and column > -1 and column < n):\n",
    "    if arr[row][column] != -1:\n",
    "        count+=1\n",
    "        arr[row][column] = 55\n",
    "        column-=1\n",
    "        row+=1\n",
    "    else:\n",
    "        break\n",
    "        \n",
    "row = queens_position_row-1\n",
    "column = queens_position_column+1\n",
    "while(row < n and row > -1 and column > -1 and column < n):\n",
    "    if arr[row][column] != -1:\n",
    "        count+=1\n",
    "        arr[row][column] = 55\n",
    "        column+=1\n",
    "        row-=1\n",
    "    else:\n",
    "        break\n",
    "        \n",
    "row = queens_position_row-1\n",
    "column = queens_position_column-1\n",
    "while(row < n and row > -1 and column > -1 and column < n):\n",
    "    if arr[row][column] != -1:\n",
    "        count+=1\n",
    "        arr[row][column] = 55\n",
    "        column-=1\n",
    "        row-=1\n",
    "    else:\n",
    "        break"
   ]
  },
  {
   "cell_type": "code",
   "execution_count": 48,
   "metadata": {},
   "outputs": [
    {
     "data": {
      "text/plain": [
       "[[0, 0, 0, 0, 0],\n",
       " [55, 0, -1, 0, 55],\n",
       " [0, 55, 55, 55, 0],\n",
       " [0, -1, 99, 55, 55],\n",
       " [0, 55, 55, 55, -1]]"
      ]
     },
     "execution_count": 48,
     "metadata": {},
     "output_type": "execute_result"
    }
   ],
   "source": [
    "arr"
   ]
  },
  {
   "cell_type": "code",
   "execution_count": 49,
   "metadata": {},
   "outputs": [
    {
     "data": {
      "text/plain": [
       "10"
      ]
     },
     "execution_count": 49,
     "metadata": {},
     "output_type": "execute_result"
    }
   ],
   "source": [
    "count"
   ]
  },
  {
   "cell_type": "code",
   "execution_count": 105,
   "metadata": {},
   "outputs": [],
   "source": [
    "n = 4\n",
    "k = 0\n",
    "r_q = 4\n",
    "c_q = 4"
   ]
  },
  {
   "cell_type": "code",
   "execution_count": 106,
   "metadata": {},
   "outputs": [],
   "source": [
    "arr = [0,0,0,0,0,0,0,0]"
   ]
  },
  {
   "cell_type": "code",
   "execution_count": 107,
   "metadata": {},
   "outputs": [
    {
     "data": {
      "text/plain": [
       "8"
      ]
     },
     "execution_count": 107,
     "metadata": {},
     "output_type": "execute_result"
    }
   ],
   "source": [
    "len(arr)"
   ]
  },
  {
   "cell_type": "code",
   "execution_count": 128,
   "metadata": {},
   "outputs": [],
   "source": [
    "# 0=>posi _ x =>2\n",
    "# 1=>nega _ x =>0\n",
    "# 2=>posi _ y =>1\n",
    "# 3=>nega _ y =>3\n",
    "# 4=>posi_x and posi_y =>5\n",
    "# 5=>posi_x and nega_y =>6\n",
    "# 6=>nega_x and posi_y =>4\n",
    "# 7=>nega_x and nega_y =>7\n",
    "\n",
    "arr[0] = n - r_q\n",
    "arr[1] = r_q-1\n",
    "arr[2] = n - c_q\n",
    "arr[3] = c_q-1\n",
    "\n",
    "arr[4] = min(arr[0],arr[2])\n",
    "arr[5] = min(arr[0],arr[3])\n",
    "arr[6] = min(arr[1],arr[2])\n",
    "arr[7] = min(arr[1],arr[3])\n"
   ]
  },
  {
   "cell_type": "code",
   "execution_count": 129,
   "metadata": {},
   "outputs": [
    {
     "data": {
      "text/plain": [
       "(4, 4, 4)"
      ]
     },
     "execution_count": 129,
     "metadata": {},
     "output_type": "execute_result"
    }
   ],
   "source": [
    "r_q,c_q,n"
   ]
  },
  {
   "cell_type": "code",
   "execution_count": 130,
   "metadata": {},
   "outputs": [],
   "source": [
    "total = sum(arr)"
   ]
  },
  {
   "cell_type": "code",
   "execution_count": 131,
   "metadata": {},
   "outputs": [
    {
     "data": {
      "text/plain": [
       "9"
      ]
     },
     "execution_count": 131,
     "metadata": {},
     "output_type": "execute_result"
    }
   ],
   "source": [
    "total"
   ]
  },
  {
   "cell_type": "code",
   "execution_count": 132,
   "metadata": {},
   "outputs": [
    {
     "data": {
      "text/plain": [
       "[0, 3, 0, 3, 0, 0, 0, 3]"
      ]
     },
     "execution_count": 132,
     "metadata": {},
     "output_type": "execute_result"
    }
   ],
   "source": [
    "arr"
   ]
  },
  {
   "cell_type": "code",
   "execution_count": 133,
   "metadata": {},
   "outputs": [
    {
     "name": "stdout",
     "output_type": "stream",
     "text": [
      "1 1\n",
      "Checking Slope\n",
      "Slope = 1\n",
      "0 -2\n",
      "Same Row\n",
      "-2 -1\n",
      "Checking Slope\n"
     ]
    }
   ],
   "source": [
    "for i in range(len(obstacles)):\n",
    "    row_x = obstacles[i][0] - r_q\n",
    "    col_y = obstacles[i][1] - c_q\n",
    "    print(row_x,col_y)\n",
    "    \n",
    "    if row_x == 0: #same Row\n",
    "        print(\"Same Row\")\n",
    "        if col_y > 0 :\n",
    "            \n",
    "            arr[2] = min(col_y,arr[2])\n",
    "        else:\n",
    "            arr[3] = min(-col_y-1,arr[3])\n",
    "    elif col_y == 0: #same column\n",
    "        print(\"Same Column\")\n",
    "        if row_x > 0 :\n",
    "            arr[0] = min(row_x,arr[0])\n",
    "        else:\n",
    "            arr[1] = min(-row_x-1,arr[1])\n",
    "    else:\n",
    "        print(\"Checking Slope\")\n",
    "        slope = col_y/row_x\n",
    "        if int(slope) == 1:\n",
    "            print(\"Slope = 1\")\n",
    "            if row_x > 0:\n",
    "                arr[4] = min(row_x,arr[4])\n",
    "            else:\n",
    "                arr[7] = min(-col_y-1,arr[7])\n",
    "        elif int(slope) == -1:\n",
    "            print(\"Slope = -1\")\n",
    "            if row_x > 0 :\n",
    "                arr[5] = min(row_x-1,arr[5])\n",
    "            else:\n",
    "                arr[6] = min(col_y-1,arr[6])\n",
    "        else:\n",
    "            continue\n"
   ]
  },
  {
   "cell_type": "code",
   "execution_count": 134,
   "metadata": {},
   "outputs": [
    {
     "data": {
      "text/plain": [
       "[0, 3, 0, 1, 0, 0, 0, 3]"
      ]
     },
     "execution_count": 134,
     "metadata": {},
     "output_type": "execute_result"
    }
   ],
   "source": [
    "arr"
   ]
  },
  {
   "cell_type": "code",
   "execution_count": 135,
   "metadata": {},
   "outputs": [
    {
     "data": {
      "text/plain": [
       "7"
      ]
     },
     "execution_count": 135,
     "metadata": {},
     "output_type": "execute_result"
    }
   ],
   "source": [
    "sum(arr)"
   ]
  },
  {
   "cell_type": "code",
   "execution_count": 136,
   "metadata": {},
   "outputs": [
    {
     "data": {
      "text/plain": [
       "13"
      ]
     },
     "execution_count": 136,
     "metadata": {},
     "output_type": "execute_result"
    }
   ],
   "source": [
    "#!/bin/python3\n",
    "\n",
    "import math\n",
    "import os\n",
    "import random\n",
    "import re\n",
    "import sys\n",
    "\n",
    "# Complete the acmTeam function below.\n",
    "def acmTeam(topic):\n",
    "    print(topic)\n",
    "    return 0\n",
    "\n",
    "if __name__ == '__main__':\n",
    "\n",
    "    nm = input().split()\n",
    "\n",
    "    n = int(nm[0])\n",
    "\n",
    "    m = int(nm[1])\n",
    "\n",
    "    topic = []\n",
    "\n",
    "    for _ in range(n):\n",
    "        topic_item = input()\n",
    "        topic.append(topic_item)\n",
    "\n",
    "    result = acmTeam(topic)\n"
   ]
  },
  {
   "cell_type": "code",
   "execution_count": null,
   "metadata": {},
   "outputs": [],
   "source": []
  },
  {
   "cell_type": "code",
   "execution_count": 137,
   "metadata": {},
   "outputs": [
    {
     "name": "stdout",
     "output_type": "stream",
     "text": [
      "4 5\n",
      "10101\n",
      "11100\n",
      "11010\n",
      "00101\n"
     ]
    }
   ],
   "source": [
    "nm = input().split()\n",
    "\n",
    "n = int(nm[0])\n",
    "\n",
    "m = int(nm[1])\n",
    "\n",
    "topic = []\n",
    "\n",
    "for _ in range(n):\n",
    "    topic_item = input()\n",
    "    topic.append(topic_item)\n",
    "\n",
    "# result = acmTeam(topic)"
   ]
  },
  {
   "cell_type": "code",
   "execution_count": 171,
   "metadata": {},
   "outputs": [
    {
     "data": {
      "text/plain": [
       "['10101', '11100', '11010', '00101']"
      ]
     },
     "execution_count": 171,
     "metadata": {},
     "output_type": "execute_result"
    }
   ],
   "source": [
    "topic"
   ]
  },
  {
   "cell_type": "code",
   "execution_count": 207,
   "metadata": {},
   "outputs": [
    {
     "name": "stdout",
     "output_type": "stream",
     "text": [
      "1 2\n",
      "1 3\n",
      "1 4\n",
      "2 3\n",
      "2 4\n",
      "3 4\n"
     ]
    }
   ],
   "source": [
    "high = 0\n",
    "team_count = 0\n",
    "\n",
    "for i in range(n):\n",
    "    for j in range(i+1,n):\n",
    "        print(i+1,j+1)\n",
    "        count=0\n",
    "        for k in range(len(topic[i])):\n",
    "            if topic[i][k] =='1' or topic[j][k]=='1':\n",
    "                count+=1\n",
    "        if count == high:\n",
    "            team_count+=1\n",
    "        if count > high:\n",
    "            high = count\n",
    "            team_count=1\n",
    "            \n",
    "final_list = []\n",
    "final_list.append(high)\n",
    "final_list.append(team_count)\n",
    "        \n",
    "            "
   ]
  },
  {
   "cell_type": "code",
   "execution_count": 208,
   "metadata": {},
   "outputs": [
    {
     "data": {
      "text/plain": [
       "5"
      ]
     },
     "execution_count": 208,
     "metadata": {},
     "output_type": "execute_result"
    }
   ],
   "source": [
    "high"
   ]
  },
  {
   "cell_type": "code",
   "execution_count": 209,
   "metadata": {},
   "outputs": [
    {
     "data": {
      "text/plain": [
       "1"
      ]
     },
     "execution_count": 209,
     "metadata": {},
     "output_type": "execute_result"
    }
   ],
   "source": [
    "team_count"
   ]
  },
  {
   "cell_type": "code",
   "execution_count": null,
   "metadata": {},
   "outputs": [],
   "source": []
  },
  {
   "cell_type": "code",
   "execution_count": null,
   "metadata": {},
   "outputs": [],
   "source": []
  },
  {
   "cell_type": "code",
   "execution_count": null,
   "metadata": {},
   "outputs": [],
   "source": []
  },
  {
   "cell_type": "code",
   "execution_count": 195,
   "metadata": {},
   "outputs": [],
   "source": [
    "number=0\n",
    "string = ''\n",
    "for i in range(len(topic)):\n",
    "    string+= str(int(number+1))\n",
    "    number+=1"
   ]
  },
  {
   "cell_type": "code",
   "execution_count": 196,
   "metadata": {},
   "outputs": [
    {
     "data": {
      "text/plain": [
       "'1234'"
      ]
     },
     "execution_count": 196,
     "metadata": {},
     "output_type": "execute_result"
    }
   ],
   "source": [
    "string"
   ]
  },
  {
   "cell_type": "code",
   "execution_count": 172,
   "metadata": {},
   "outputs": [],
   "source": [
    "from itertools import combinations\n",
    "\n",
    "all_teams = list(combinations(string,2))"
   ]
  },
  {
   "cell_type": "code",
   "execution_count": 173,
   "metadata": {},
   "outputs": [
    {
     "data": {
      "text/plain": [
       "[('1', '2'), ('1', '3'), ('1', '4'), ('2', '3'), ('2', '4'), ('3', '4')]"
      ]
     },
     "execution_count": 173,
     "metadata": {},
     "output_type": "execute_result"
    }
   ],
   "source": [
    "all_teams"
   ]
  },
  {
   "cell_type": "code",
   "execution_count": 183,
   "metadata": {},
   "outputs": [],
   "source": [
    "final_score={}\n",
    "for team in all_teams:\n",
    "    a=int(team[0])-1\n",
    "    b=int(team[1])-1\n",
    "    list_a = topic[a]\n",
    "    list_b = topic[b]\n",
    "    team_count=0\n",
    "    for i in range(len(list_a)):\n",
    "        if (list_a[i] == '1' or list_b[i] == '1'):\n",
    "            team_count +=1\n",
    "            final_score[team] = team_count"
   ]
  },
  {
   "cell_type": "code",
   "execution_count": 184,
   "metadata": {},
   "outputs": [
    {
     "data": {
      "text/plain": [
       "{('1', '2'): 4,\n",
       " ('1', '3'): 5,\n",
       " ('1', '4'): 3,\n",
       " ('2', '3'): 4,\n",
       " ('2', '4'): 4,\n",
       " ('3', '4'): 5}"
      ]
     },
     "execution_count": 184,
     "metadata": {},
     "output_type": "execute_result"
    }
   ],
   "source": [
    "final_score"
   ]
  },
  {
   "cell_type": "code",
   "execution_count": 185,
   "metadata": {},
   "outputs": [],
   "source": [
    "max_value = max(final_score.values())"
   ]
  },
  {
   "cell_type": "code",
   "execution_count": 186,
   "metadata": {},
   "outputs": [
    {
     "data": {
      "text/plain": [
       "5"
      ]
     },
     "execution_count": 186,
     "metadata": {},
     "output_type": "execute_result"
    }
   ],
   "source": [
    "max_value"
   ]
  },
  {
   "cell_type": "code",
   "execution_count": 189,
   "metadata": {},
   "outputs": [],
   "source": [
    "count=0\n",
    "for key, value in final_score.items():  # for name, age in dictionary.iteritems():  (for Python 2.x)\n",
    "    if value == max_value:\n",
    "        count+=1"
   ]
  },
  {
   "cell_type": "code",
   "execution_count": 190,
   "metadata": {},
   "outputs": [
    {
     "data": {
      "text/plain": [
       "2"
      ]
     },
     "execution_count": 190,
     "metadata": {},
     "output_type": "execute_result"
    }
   ],
   "source": [
    "count"
   ]
  },
  {
   "cell_type": "code",
   "execution_count": null,
   "metadata": {},
   "outputs": [],
   "source": []
  },
  {
   "cell_type": "code",
   "execution_count": 1,
   "metadata": {},
   "outputs": [
    {
     "name": "stdout",
     "output_type": "stream",
     "text": [
      "8\n",
      "UDDDUDUU\n"
     ]
    }
   ],
   "source": [
    "n = int(input())\n",
    "\n",
    "s = input()"
   ]
  },
  {
   "cell_type": "code",
   "execution_count": 7,
   "metadata": {},
   "outputs": [
    {
     "name": "stdout",
     "output_type": "stream",
     "text": [
      "[1]\n",
      "[]\n"
     ]
    },
    {
     "ename": "IndexError",
     "evalue": "pop from empty list",
     "output_type": "error",
     "traceback": [
      "\u001b[1;31m---------------------------------------------------------------------------\u001b[0m",
      "\u001b[1;31mIndexError\u001b[0m                                Traceback (most recent call last)",
      "\u001b[1;32m<ipython-input-7-6b38371d94c0>\u001b[0m in \u001b[0;36m<module>\u001b[1;34m\u001b[0m\n\u001b[0;32m      5\u001b[0m         \u001b[0mstack\u001b[0m\u001b[1;33m.\u001b[0m\u001b[0mappend\u001b[0m\u001b[1;33m(\u001b[0m\u001b[1;36m1\u001b[0m\u001b[1;33m)\u001b[0m\u001b[1;33m\u001b[0m\u001b[1;33m\u001b[0m\u001b[0m\n\u001b[0;32m      6\u001b[0m     \u001b[1;32mif\u001b[0m \u001b[0ms\u001b[0m\u001b[1;33m[\u001b[0m\u001b[0mi\u001b[0m\u001b[1;33m]\u001b[0m \u001b[1;33m==\u001b[0m \u001b[1;34m'D'\u001b[0m\u001b[1;33m:\u001b[0m\u001b[1;33m\u001b[0m\u001b[1;33m\u001b[0m\u001b[0m\n\u001b[1;32m----> 7\u001b[1;33m         \u001b[0mstack\u001b[0m\u001b[1;33m.\u001b[0m\u001b[0mpop\u001b[0m\u001b[1;33m(\u001b[0m\u001b[0mlen\u001b[0m\u001b[1;33m(\u001b[0m\u001b[0mstack\u001b[0m\u001b[1;33m)\u001b[0m\u001b[1;33m-\u001b[0m\u001b[1;36m1\u001b[0m\u001b[1;33m)\u001b[0m\u001b[1;33m\u001b[0m\u001b[1;33m\u001b[0m\u001b[0m\n\u001b[0m\u001b[0;32m      8\u001b[0m     \u001b[0mprint\u001b[0m\u001b[1;33m(\u001b[0m\u001b[0mstack\u001b[0m\u001b[1;33m)\u001b[0m\u001b[1;33m\u001b[0m\u001b[1;33m\u001b[0m\u001b[0m\n",
      "\u001b[1;31mIndexError\u001b[0m: pop from empty list"
     ]
    }
   ],
   "source": [
    "stack = 0\n",
    "count_valley = 0\n",
    "for i in range(len(s)):\n",
    "    if s[i] == 'U':\n",
    "        stack+=1\n",
    "    if s[i] == 'D':\n",
    "        stack-=1\n",
    "    if stack == 0 and s[i] == 'D':\n",
    "        print('****Valley done****')\n",
    "        \n",
    "    print(stack)"
   ]
  },
  {
   "cell_type": "code",
   "execution_count": 14,
   "metadata": {},
   "outputs": [],
   "source": [
    "level = 0\n",
    "count_valley = 0\n",
    "for i in range(len(s)):\n",
    "    if s[i] == 'U':\n",
    "        level+=1\n",
    "        \n",
    "    if s[i] == 'D':\n",
    "        level-=1\n",
    "        \n",
    "    if level == 0 and s[i] == 'U':\n",
    "        count_valley+=1\n"
   ]
  },
  {
   "cell_type": "code",
   "execution_count": 15,
   "metadata": {},
   "outputs": [
    {
     "data": {
      "text/plain": [
       "1"
      ]
     },
     "execution_count": 15,
     "metadata": {},
     "output_type": "execute_result"
    }
   ],
   "source": [
    "count_valley"
   ]
  },
  {
   "cell_type": "code",
   "execution_count": 9,
   "metadata": {},
   "outputs": [
    {
     "data": {
      "text/plain": [
       "3"
      ]
     },
     "execution_count": 9,
     "metadata": {},
     "output_type": "execute_result"
    }
   ],
   "source": [
    "hell.pop(len(hell)-1)"
   ]
  },
  {
   "cell_type": "code",
   "execution_count": 10,
   "metadata": {},
   "outputs": [
    {
     "name": "stdout",
     "output_type": "stream",
     "text": [
      "1 2 3 4 5\n",
      "14 10\n"
     ]
    }
   ],
   "source": [
    "import math\n",
    "import os\n",
    "import random\n",
    "import re\n",
    "import sys\n",
    "\n",
    "#Complete the miniMaxSum function below.\n",
    "def miniMaxSum(arr):\n",
    "    reverse = sorted(arr, reverse=True)\n",
    "    sorted_arr = sorted(arr)\n",
    "    reverse.pop(len(reverse)-1)\n",
    "    sorted_arr.pop(len(sorted_arr)-1)\n",
    "    \n",
    "    print(sum(reverse), sum(sorted_arr))\n",
    "if __name__ == '__main__':\n",
    "    arr = list(map(int, input().rstrip().split()))\n",
    "\n",
    "    miniMaxSum(arr)\n"
   ]
  },
  {
   "cell_type": "code",
   "execution_count": 2,
   "metadata": {},
   "outputs": [
    {
     "name": "stdout",
     "output_type": "stream",
     "text": [
      "3\n",
      "1 3 4\n",
      "<bound method Difference.maximumDifference of <__main__.Difference object at 0x0000024D4BFD2CC0>>\n"
     ]
    }
   ],
   "source": [
    "class Difference:\n",
    "    def __init__(self, a):\n",
    "        self.__elements = a\n",
    "\n",
    "    # Add your code here\n",
    "    def computeDifference(self):\n",
    "        pass\n",
    "\n",
    "    def maximumDifference(self):\n",
    "        self.__elements.sort()\n",
    "        mini = self.__elements[0]\n",
    "        maxi = self.__elements[len(self.__elements)-1]\n",
    "        print(mini-maxi)\n",
    "        return abs(maxi-mini)\n",
    "\n",
    "# End of Difference class\n",
    "\n",
    "_ = input()\n",
    "a = [int(e) for e in input().split(' ')]\n",
    "\n",
    "d = Difference(a)\n",
    "d.computeDifference()\n",
    "\n",
    "print(d.maximumDifference)"
   ]
  },
  {
   "cell_type": "code",
   "execution_count": 3,
   "metadata": {},
   "outputs": [],
   "source": [
    "a= [10,10,20,10,30]"
   ]
  },
  {
   "cell_type": "code",
   "execution_count": 4,
   "metadata": {},
   "outputs": [],
   "source": [
    "a.remove(10)"
   ]
  },
  {
   "cell_type": "code",
   "execution_count": 6,
   "metadata": {},
   "outputs": [
    {
     "data": {
      "text/plain": [
       "2"
      ]
     },
     "execution_count": 6,
     "metadata": {},
     "output_type": "execute_result"
    }
   ],
   "source": [
    "a.count(10)"
   ]
  },
  {
   "cell_type": "code",
   "execution_count": 7,
   "metadata": {},
   "outputs": [
    {
     "name": "stdout",
     "output_type": "stream",
     "text": [
      "5 3\n",
      "1 2 100\n",
      "2 5 100\n",
      "3 4 100\n",
      "[0, 0, 0, 0, 0]\n",
      "[[1, 2, 100], [2, 5, 100], [3, 4, 100]]\n"
     ]
    }
   ],
   "source": [
    "#!/bin/python3\n",
    "\n",
    "import math\n",
    "import os\n",
    "import random\n",
    "import re\n",
    "import sys\n",
    "\n",
    "# Complete the arrayManipulation function below.\n",
    "def arrayManipulation(n, queries):\n",
    "    arr = [0 for _ in range(n)]\n",
    "    print(arr)\n",
    "    print(queries)\n",
    "    return 0\n",
    "\n",
    "if __name__ == '__main__':\n",
    "\n",
    "    nm = input().split()\n",
    "\n",
    "    n = int(nm[0])\n",
    "\n",
    "    m = int(nm[1])\n",
    "\n",
    "    queries = []\n",
    "\n",
    "    for _ in range(m):\n",
    "        queries.append(list(map(int, input().rstrip().split())))\n",
    "\n",
    "    result = arrayManipulation(n, queries)\n",
    "\n",
    "\n"
   ]
  },
  {
   "cell_type": "code",
   "execution_count": 12,
   "metadata": {},
   "outputs": [],
   "source": [
    "queries = [[1, 2, 100], [2, 5, 100], [3, 4, 100]]\n",
    "n=5"
   ]
  },
  {
   "cell_type": "code",
   "execution_count": 13,
   "metadata": {},
   "outputs": [],
   "source": [
    "arr = [0 for _ in range(n)]"
   ]
  },
  {
   "cell_type": "code",
   "execution_count": 21,
   "metadata": {},
   "outputs": [
    {
     "name": "stdout",
     "output_type": "stream",
     "text": [
      "[100, 0, -100, 0, 0]\n",
      "[100, 100, -100, 0, 0]\n",
      "[100, 100, 0, 0, -100]\n",
      "200\n"
     ]
    }
   ],
   "source": [
    "arr = [0]*n\n",
    "for i in queries:\n",
    "    arr[i[0] - 1] += i[2]\n",
    "    if i[1] != len(arr):\n",
    "        arr[i[1]] -= i[2]\n",
    "    print(arr)\n",
    "maxval = 0\n",
    "itt = 0\n",
    "\n",
    "for q in arr:\n",
    "    itt += q\n",
    "    if itt > maxval:\n",
    "        maxval = itt\n",
    "print(maxval)"
   ]
  },
  {
   "cell_type": "code",
   "execution_count": 27,
   "metadata": {},
   "outputs": [
    {
     "data": {
      "text/plain": [
       "{1: 0, 2: 0, 3: 0, 4: 0, 5: 0}"
      ]
     },
     "execution_count": 27,
     "metadata": {},
     "output_type": "execute_result"
    }
   ],
   "source": [
    "diction"
   ]
  },
  {
   "cell_type": "code",
   "execution_count": 47,
   "metadata": {},
   "outputs": [],
   "source": []
  },
  {
   "cell_type": "code",
   "execution_count": 48,
   "metadata": {},
   "outputs": [
    {
     "data": {
      "text/plain": [
       "[100, 200, 200, 200, 100]"
      ]
     },
     "execution_count": 48,
     "metadata": {},
     "output_type": "execute_result"
    }
   ],
   "source": []
  },
  {
   "cell_type": "code",
   "execution_count": 40,
   "metadata": {},
   "outputs": [
    {
     "data": {
      "text/plain": [
       "[2]"
      ]
     },
     "execution_count": 40,
     "metadata": {},
     "output_type": "execute_result"
    }
   ],
   "source": []
  },
  {
   "cell_type": "code",
   "execution_count": 33,
   "metadata": {},
   "outputs": [
    {
     "name": "stdout",
     "output_type": "stream",
     "text": [
      "[1, 2]\n",
      "[2, 3, 4, 5]\n",
      "[3, 4]\n"
     ]
    }
   ],
   "source": [
    "sub = []\n",
    "for i in range(0,len(all)-1):\n",
    "    for j in range(1,len(all))\n",
    "        temp = list(set(all[i]).intersection(all[j]))\n",
    "        if len(temp) != 0 and len(temp) > len(sub):\n",
    "            sub = list(set(all[i]).intersection(all[j]))"
   ]
  },
  {
   "cell_type": "code",
   "execution_count": 15,
   "metadata": {},
   "outputs": [],
   "source": [
    "magazine = ['give' ,'me', 'one', 'grand', 'today' ,'night']\n",
    "note = ['give', 'one' ,'grand', 'today']"
   ]
  },
  {
   "cell_type": "code",
   "execution_count": 27,
   "metadata": {},
   "outputs": [],
   "source": [
    "unique = list(set(magazine))"
   ]
  },
  {
   "cell_type": "code",
   "execution_count": 29,
   "metadata": {},
   "outputs": [],
   "source": [
    "dictionary = {}\n",
    "for element in magazine:\n",
    "    if element in dictionary.keys():\n",
    "        dictionary[element] += 1\n",
    "    else:\n",
    "        dictionary[element] = 1"
   ]
  },
  {
   "cell_type": "code",
   "execution_count": 30,
   "metadata": {},
   "outputs": [
    {
     "data": {
      "text/plain": [
       "{'give': 1, 'me': 1, 'one': 1, 'grand': 1, 'today': 1, 'night': 1}"
      ]
     },
     "execution_count": 30,
     "metadata": {},
     "output_type": "execute_result"
    }
   ],
   "source": [
    "dictionary"
   ]
  },
  {
   "cell_type": "code",
   "execution_count": 37,
   "metadata": {},
   "outputs": [
    {
     "data": {
      "text/plain": [
       "['give', 'one', 'grand', 'today']"
      ]
     },
     "execution_count": 37,
     "metadata": {},
     "output_type": "execute_result"
    }
   ],
   "source": [
    "note"
   ]
  },
  {
   "cell_type": "code",
   "execution_count": 38,
   "metadata": {},
   "outputs": [
    {
     "data": {
      "text/plain": [
       "set()"
      ]
     },
     "execution_count": 38,
     "metadata": {},
     "output_type": "execute_result"
    }
   ],
   "source": [
    "set(note[0])&set(note[3])"
   ]
  },
  {
   "cell_type": "code",
   "execution_count": 33,
   "metadata": {},
   "outputs": [
    {
     "name": "stdout",
     "output_type": "stream",
     "text": [
      "{'give': 0, 'me': 1, 'one': 1, 'grand': 1, 'today': 1, 'night': 1}\n",
      "{'give': 0, 'me': 1, 'one': 0, 'grand': 1, 'today': 1, 'night': 1}\n",
      "{'give': 0, 'me': 1, 'one': 0, 'grand': 0, 'today': 1, 'night': 1}\n",
      "{'give': 0, 'me': 1, 'one': 0, 'grand': 0, 'today': 0, 'night': 1}\n",
      "Yes\n"
     ]
    }
   ],
   "source": [
    "flag=1\n",
    "for element in note:\n",
    "    if element in dictionary.keys():\n",
    "        if dictionary[element] >= 1:\n",
    "            dictionary[element] -= 1\n",
    "        else:\n",
    "            flag=0\n",
    "            \n",
    "            print('No')\n",
    "            break\n",
    "    else:\n",
    "        flag=0\n",
    "        print('No')\n",
    "        break\n",
    "        \n",
    "    print(dictionary)\n",
    "        \n",
    "if flag==1:\n",
    "    print('Yes')"
   ]
  },
  {
   "cell_type": "code",
   "execution_count": 24,
   "metadata": {},
   "outputs": [
    {
     "data": {
      "text/plain": [
       "dict_keys(['give', 'me', 'one', 'grand', 'today', 'night'])"
      ]
     },
     "execution_count": 24,
     "metadata": {},
     "output_type": "execute_result"
    }
   ],
   "source": [
    "if dictiion.keys()"
   ]
  },
  {
   "cell_type": "code",
   "execution_count": 83,
   "metadata": {},
   "outputs": [],
   "source": [
    "s = 'abba'"
   ]
  },
  {
   "cell_type": "code",
   "execution_count": 52,
   "metadata": {},
   "outputs": [],
   "source": [
    "res = [test_str[i: j] for i in range(len(test_str)) \n",
    "          for j in range(i + 1, len(test_str) + 1)] "
   ]
  },
  {
   "cell_type": "code",
   "execution_count": 53,
   "metadata": {},
   "outputs": [
    {
     "data": {
      "text/plain": [
       "['a', 'ab', 'abb', 'abba', 'b', 'bb', 'bba', 'b', 'ba', 'a']"
      ]
     },
     "execution_count": 53,
     "metadata": {},
     "output_type": "execute_result"
    }
   ],
   "source": [
    "res"
   ]
  },
  {
   "cell_type": "code",
   "execution_count": 101,
   "metadata": {},
   "outputs": [
    {
     "name": "stdout",
     "output_type": "stream",
     "text": [
      "A : ['a', 'b', 'b', 'a']\n",
      "B : Counter({'a': 2, 'b': 2})\n",
      "A : ['ab', 'bb', 'ab']\n",
      "B : Counter({'ab': 2, 'bb': 1})\n",
      "A : ['abb', 'abb']\n",
      "B : Counter({'abb': 2})\n",
      "A : ['aabb']\n",
      "B : Counter({'aabb': 1})\n"
     ]
    }
   ],
   "source": [
    "from collections import Counter\n",
    "\n",
    "count=0\n",
    "for i in range(1,len(s)+1):\n",
    "    a=[''.join(sorted(s[j:j+i])) for j in range(len(s)-i+1)]\n",
    "    print(f'A : {a}')\n",
    "    b=Counter(a)\n",
    "    print(f'B : {b}')\n",
    "    for j in b:\n",
    "        count+=b[j]*(b[j]-1)/2\n",
    "            "
   ]
  },
  {
   "cell_type": "code",
   "execution_count": 98,
   "metadata": {},
   "outputs": [],
   "source": [
    "c=Counter(['carol','car'])"
   ]
  },
  {
   "cell_type": "code",
   "execution_count": 99,
   "metadata": {},
   "outputs": [
    {
     "data": {
      "text/plain": [
       "Counter({'carol': 1, 'car': 1})"
      ]
     },
     "execution_count": 99,
     "metadata": {},
     "output_type": "execute_result"
    }
   ],
   "source": [
    "c"
   ]
  },
  {
   "cell_type": "code",
   "execution_count": 81,
   "metadata": {},
   "outputs": [
    {
     "name": "stdout",
     "output_type": "stream",
     "text": [
      "['a'] ['b']\n",
      "['a'] ['b']\n",
      "['a'] ['a']\n",
      "Increment\n",
      "['a', 'b'] ['b', 'b']\n",
      "['a', 'b'] ['b', 'a']\n",
      "Increment\n",
      "['a', 'b', 'b'] ['b', 'b', 'a']\n",
      "Increment\n",
      "['b'] ['b']\n",
      "Increment\n",
      "['b'] ['a']\n",
      "['b', 'b'] ['b', 'a']\n",
      "['b'] ['a']\n"
     ]
    }
   ],
   "source": [
    "count = 0\n",
    "counting = {'count' : 0}\n",
    "for i in range(len(res)-1):\n",
    "    for j in range(i+1,len(res)):\n",
    "        ith = list(res[i])\n",
    "        jth = list(res[j])\n",
    "        if len(ith) == len(jth):\n",
    "            print(ith,jth)\n",
    "            flag=1\n",
    "            for index in range(len(ith)):\n",
    "                if ith[index] in jth:\n",
    "                    jth.remove(ith[index])\n",
    "                else:\n",
    "                    flag=0\n",
    "                    break\n",
    "            if flag==1 and len(jth)==0 :\n",
    "                print('Increment')\n",
    "                counting['count'] +=1\n",
    "\n",
    "                \n",
    "            "
   ]
  },
  {
   "cell_type": "code",
   "execution_count": 82,
   "metadata": {},
   "outputs": [
    {
     "data": {
      "text/plain": [
       "{'count': 4}"
      ]
     },
     "execution_count": 82,
     "metadata": {},
     "output_type": "execute_result"
    }
   ],
   "source": [
    "counting"
   ]
  },
  {
   "cell_type": "code",
   "execution_count": 2,
   "metadata": {},
   "outputs": [
    {
     "name": "stdout",
     "output_type": "stream",
     "text": [
      "6\n",
      "1\n",
      "2\n",
      "3\n",
      "Adiition : 6\n",
      "I implemented: AdvancedArithmetic\n",
      "12\n"
     ]
    }
   ],
   "source": [
    "class AdvancedArithmetic(object):\n",
    "    def divisorSum(n):\n",
    "        raise NotImplementedError\n",
    "\n",
    "class Calculator(AdvancedArithmetic):\n",
    "    def divisorSum(self, n):\n",
    "        temp = 1\n",
    "        addition = 0\n",
    "        while temp != n:\n",
    "            if n % temp == 0:\n",
    "                addition += temp\n",
    "                print(temp)\n",
    "            temp+=1\n",
    "            \n",
    "        print(f'Adiition : {addition}')\n",
    "        return addition+n\n",
    "\n",
    "\n",
    "n = int(input())\n",
    "my_calculator = Calculator()\n",
    "s = my_calculator.divisorSum(n)\n",
    "print(\"I implemented: \" + type(my_calculator).__bases__[0].__name__)\n",
    "print(s)"
   ]
  },
  {
   "cell_type": "code",
   "execution_count": 7,
   "metadata": {},
   "outputs": [],
   "source": [
    "ar = [1,4,3,5]"
   ]
  },
  {
   "cell_type": "code",
   "execution_count": 8,
   "metadata": {},
   "outputs": [],
   "source": [
    "ar.sort(reverse=True)"
   ]
  },
  {
   "cell_type": "code",
   "execution_count": 10,
   "metadata": {},
   "outputs": [],
   "source": [
    "arr = [2,4,2,6,1,7,8,9,2,1]\n",
    "candies = [1] * len(arr)\n",
    "for i in range(1,len(arr)):\n",
    "    if arr[i] > arr[i-1]:\n",
    "        candies[i] = candies[i-1] + 1"
   ]
  },
  {
   "cell_type": "code",
   "execution_count": 11,
   "metadata": {},
   "outputs": [
    {
     "data": {
      "text/plain": [
       "18"
      ]
     },
     "execution_count": 11,
     "metadata": {},
     "output_type": "execute_result"
    }
   ],
   "source": [
    "sum(candies)"
   ]
  },
  {
   "cell_type": "code",
   "execution_count": 30,
   "metadata": {},
   "outputs": [
    {
     "data": {
      "text/plain": [
       "2"
      ]
     },
     "execution_count": 30,
     "metadata": {},
     "output_type": "execute_result"
    }
   ],
   "source": [
    "arr = [1,2,4,5,6]\n",
    "\n",
    "arr.index(4, 1,len(arr)-1)"
   ]
  },
  {
   "cell_type": "code",
   "execution_count": 39,
   "metadata": {},
   "outputs": [],
   "source": [
    "total_money = 4\n",
    "menu_array = [1,4,5,3,2]"
   ]
  },
  {
   "cell_type": "code",
   "execution_count": 40,
   "metadata": {},
   "outputs": [],
   "source": [
    "sorted_array = menu_array.copy()"
   ]
  },
  {
   "cell_type": "code",
   "execution_count": 41,
   "metadata": {},
   "outputs": [],
   "source": [
    "sorted_array.sort()"
   ]
  },
  {
   "cell_type": "code",
   "execution_count": 42,
   "metadata": {},
   "outputs": [
    {
     "data": {
      "text/plain": [
       "[1, 2, 3, 4, 5]"
      ]
     },
     "execution_count": 42,
     "metadata": {},
     "output_type": "execute_result"
    }
   ],
   "source": [
    "sorted_array"
   ]
  },
  {
   "cell_type": "code",
   "execution_count": 43,
   "metadata": {},
   "outputs": [
    {
     "data": {
      "text/plain": [
       "[1, 4, 5, 3, 2]"
      ]
     },
     "execution_count": 43,
     "metadata": {},
     "output_type": "execute_result"
    }
   ],
   "source": [
    "menu_array"
   ]
  },
  {
   "cell_type": "code",
   "execution_count": 1,
   "metadata": {},
   "outputs": [
    {
     "name": "stdout",
     "output_type": "stream",
     "text": [
      "5\n",
      "2 3\n",
      "-1 4\n",
      "-1 5\n",
      "-1 -1\n",
      "-1 -1\n",
      "1\n",
      "2\n"
     ]
    }
   ],
   "source": [
    "n = int(input())\n",
    "\n",
    "indexes = []\n",
    "\n",
    "for _ in range(n):\n",
    "    indexes.append(list(map(int, input().rstrip().split())))\n",
    "\n",
    "queries_count = int(input())\n",
    "\n",
    "queries = []\n",
    "\n",
    "for _ in range(queries_count):\n",
    "    queries_item = int(input())\n",
    "    queries.append(queries_item)\n",
    "\n",
    "# result = swapNodes(indexes, queries)"
   ]
  },
  {
   "cell_type": "code",
   "execution_count": 2,
   "metadata": {},
   "outputs": [
    {
     "data": {
      "text/plain": [
       "[[2, 3], [-1, 4], [-1, 5], [-1, -1], [-1, -1]]"
      ]
     },
     "execution_count": 2,
     "metadata": {},
     "output_type": "execute_result"
    }
   ],
   "source": [
    "indexes"
   ]
  },
  {
   "cell_type": "code",
   "execution_count": 3,
   "metadata": {},
   "outputs": [
    {
     "data": {
      "text/plain": [
       "[2]"
      ]
     },
     "execution_count": 3,
     "metadata": {},
     "output_type": "execute_result"
    }
   ],
   "source": [
    "queries"
   ]
  },
  {
   "cell_type": "code",
   "execution_count": 7,
   "metadata": {},
   "outputs": [],
   "source": [
    "class Node:\n",
    "    def __init__(self,data,level):\n",
    "        self.left = None\n",
    "        self.right = None\n",
    "        self.data = data\n",
    "        self.level = level\n",
    "    def inorder(root): \n",
    "        if root is None: \n",
    "            return \n",
    "        inorder(root.left) \n",
    "        print(root.data),  \n",
    "        inorder(root.right) "
   ]
  },
  {
   "cell_type": "code",
   "execution_count": 26,
   "metadata": {},
   "outputs": [],
   "source": [
    "def create_tree(indexes):\n",
    "    from queue import Queue\n",
    "    #using queue to create the tree: BFS\n",
    "    q = Queue()\n",
    "    root = Node(1, 1)\n",
    "    maxlevel = 1\n",
    "    q.put(root)\n",
    "    for left, right in indexes:\n",
    "        cur = q.get()\n",
    "        if left != -1:\n",
    "            leftNode = Node(left, cur.level + 1)\n",
    "            cur.left = leftNode\n",
    "            q.put(leftNode)\n",
    "        if right != -1:\n",
    "            rightNode = Node(right, cur.level + 1)\n",
    "            cur.right = rightNode\n",
    "            q.put(rightNode)\n",
    "        #Finally the q is empty, and cur is at lowest level. Because there are always [-1, -1]s at the end of the indexes\n",
    "        maxlevel = cur.level\n",
    "    return (root, maxlevel)"
   ]
  },
  {
   "cell_type": "code",
   "execution_count": 27,
   "metadata": {},
   "outputs": [],
   "source": [
    "for k in queries:\n",
    "    danger_levels = [i for i in range(1, maxlevel+1) if i%k==0]"
   ]
  },
  {
   "cell_type": "code",
   "execution_count": 17,
   "metadata": {},
   "outputs": [
    {
     "data": {
      "text/plain": [
       "[2]"
      ]
     },
     "execution_count": 17,
     "metadata": {},
     "output_type": "execute_result"
    }
   ],
   "source": [
    "danger_levels"
   ]
  },
  {
   "cell_type": "code",
   "execution_count": 28,
   "metadata": {},
   "outputs": [],
   "source": [
    "def swapNode(root,danger_levels):\n",
    "    if root.left:\n",
    "        swapNode(root.left,danger_levels)\n",
    "    if root.right:\n",
    "        swapNode(root.right,danger_levels)\n",
    "    if root.level in danger_levels:\n",
    "        root.left, root.right = root.right, root.left\n",
    "        \n",
    "    return root"
   ]
  },
  {
   "cell_type": "code",
   "execution_count": 30,
   "metadata": {},
   "outputs": [],
   "source": [
    "my_tree, my_tree_max = create_tree(indexes)"
   ]
  },
  {
   "cell_type": "code",
   "execution_count": 31,
   "metadata": {},
   "outputs": [],
   "source": [
    "for k in queries:\n",
    "    danger_levels = [i for i in range(1, maxlevel+1) if i%k==0]\n",
    "    \n",
    "    my_new_tree = swapNode(my_tree,danger_levels)"
   ]
  },
  {
   "cell_type": "code",
   "execution_count": 38,
   "metadata": {},
   "outputs": [
    {
     "ename": "AttributeError",
     "evalue": "'NoneType' object has no attribute 'data'",
     "output_type": "error",
     "traceback": [
      "\u001b[1;31m---------------------------------------------------------------------------\u001b[0m",
      "\u001b[1;31mAttributeError\u001b[0m                            Traceback (most recent call last)",
      "\u001b[1;32m<ipython-input-38-94096a9b94d1>\u001b[0m in \u001b[0;36m<module>\u001b[1;34m\u001b[0m\n\u001b[1;32m----> 1\u001b[1;33m \u001b[0mmy_tree\u001b[0m\u001b[1;33m.\u001b[0m\u001b[0mleft\u001b[0m\u001b[1;33m.\u001b[0m\u001b[0mright\u001b[0m\u001b[1;33m.\u001b[0m\u001b[0mdata\u001b[0m\u001b[1;33m\u001b[0m\u001b[1;33m\u001b[0m\u001b[0m\n\u001b[0m",
      "\u001b[1;31mAttributeError\u001b[0m: 'NoneType' object has no attribute 'data'"
     ]
    }
   ],
   "source": [
    "my_tree.left.right.data"
   ]
  },
  {
   "cell_type": "code",
   "execution_count": 51,
   "metadata": {},
   "outputs": [],
   "source": [
    "arr = [1,5,3,4,2]\n",
    "k= 2"
   ]
  },
  {
   "cell_type": "code",
   "execution_count": 52,
   "metadata": {},
   "outputs": [],
   "source": [
    "sorted_arr = sorted(arr,reverse=True)"
   ]
  },
  {
   "cell_type": "code",
   "execution_count": 54,
   "metadata": {},
   "outputs": [
    {
     "data": {
      "text/plain": [
       "[5, 4, 3, 2, 1]"
      ]
     },
     "execution_count": 54,
     "metadata": {},
     "output_type": "execute_result"
    }
   ],
   "source": [
    "sorted_arr"
   ]
  },
  {
   "cell_type": "code",
   "execution_count": 55,
   "metadata": {},
   "outputs": [],
   "source": [
    "my_dict = {}\n",
    "total = 0\n",
    "for i in range(len(arr)):\n",
    "    my_dict[arr[i]] = 1\n",
    "    if arr[i] + k in my_dict:\n",
    "        total += 1\n",
    "    if arr[i] - k  in my_dict:\n",
    "        total += 1\n",
    "    \n"
   ]
  },
  {
   "cell_type": "code",
   "execution_count": 56,
   "metadata": {},
   "outputs": [
    {
     "data": {
      "text/plain": [
       "3"
      ]
     },
     "execution_count": 56,
     "metadata": {},
     "output_type": "execute_result"
    }
   ],
   "source": [
    "total"
   ]
  },
  {
   "cell_type": "code",
   "execution_count": 45,
   "metadata": {},
   "outputs": [
    {
     "data": {
      "text/plain": [
       "[0, -2, -1, -3]"
      ]
     },
     "execution_count": 45,
     "metadata": {},
     "output_type": "execute_result"
    }
   ],
   "source": [
    "list(map(lambda x: x-5, sub))"
   ]
  },
  {
   "cell_type": "code",
   "execution_count": 62,
   "metadata": {},
   "outputs": [
    {
     "name": "stdout",
     "output_type": "stream",
     "text": [
      "Counter({'y': 3, 'c': 2, 'x': 2, 'm': 2, 'f': 1, 'r': 1, 'z': 1, 'w': 1, 's': 1, 'a': 1, 'n': 1, 'l': 1, 'i': 1, 'g': 1, 'v': 1}) Counter({'m': 3, 'j': 2, 'w': 2, 'r': 2, 'h': 2, 'p': 2, 'o': 2, 'b': 2, 'e': 2, 'x': 1, 't': 1, 'v': 1, 'u': 1, 'l': 1, 'd': 1, 'q': 1, 'i': 1, 's': 1, 'g': 1, 'k': 1})\n",
      "Counter({'y': 3, 'c': 2, 'f': 1, 'x': 1, 'z': 1, 'a': 1, 'n': 1}) Counter({'j': 2, 'h': 2, 'p': 2, 'o': 2, 'b': 2, 'e': 2, 'w': 1, 't': 1, 'r': 1, 'u': 1, 'm': 1, 'd': 1, 'q': 1, 'k': 1})\n",
      "Counter({'y': 3, 'c': 2, 'j': 2, 'h': 2, 'p': 2, 'o': 2, 'b': 2, 'e': 2, 'f': 1, 'x': 1, 'z': 1, 'a': 1, 'n': 1, 'w': 1, 't': 1, 'r': 1, 'u': 1, 'm': 1, 'd': 1, 'q': 1, 'k': 1})\n",
      "['f', 'c', 'x', 'z', 'a', 'n', 'y', 'j', 'w', 't', 'r', 'h', 'u', 'm', 'p', 'd', 'o', 'q', 'b', 'e', 'k']\n",
      "---------------------------------------------------\n",
      "['f', 'c', 'c', 'x', 'z', 'a', 'n', 'y', 'y', 'y', 'j', 'j', 'w', 't', 'r', 'h', 'h', 'u', 'm', 'p', 'p', 'd', 'o', 'o', 'q', 'b', 'b', 'e', 'e', 'k']\n"
     ]
    }
   ],
   "source": [
    "b= 'jxwtrhvujlmrpdoqbisbwhmgpmeoke'\n",
    "a = 'fcrxzwscanmligyxyvym'\n",
    "\n",
    "from collections import Counter\n",
    "\n",
    "a = Counter(a)\n",
    "b = Counter(b)\n",
    "\n",
    "print(a , b)\n",
    "\n",
    "c = a-b\n",
    "d = b-a\n",
    "print(c , d)\n",
    "\n",
    "e = c+d\n",
    "print(e)\n",
    "\n",
    "print(list(e.elements()))"
   ]
  },
  {
   "cell_type": "code",
   "execution_count": 86,
   "metadata": {},
   "outputs": [],
   "source": [
    "s =list('AAABBB') "
   ]
  },
  {
   "cell_type": "code",
   "execution_count": 87,
   "metadata": {},
   "outputs": [
    {
     "name": "stdout",
     "output_type": "stream",
     "text": [
      "4\n"
     ]
    }
   ],
   "source": [
    "count = 0\n",
    "for i in range(len(s)-1):\n",
    "    j = i+1 \n",
    "    while j<len(s):\n",
    "        if s[i] == s[j]:\n",
    "            count += 1\n",
    "            s.pop(j)\n",
    "        else:\n",
    "            break\n",
    "            \n",
    "print(count)"
   ]
  },
  {
   "cell_type": "code",
   "execution_count": 127,
   "metadata": {},
   "outputs": [
    {
     "name": "stdout",
     "output_type": "stream",
     "text": [
      "{'a': 1, 'b': 2, 'c': 2}\n"
     ]
    }
   ],
   "source": [
    "char_dict = {}\n",
    "for char in s:\n",
    "    if char in char_dict:\n",
    "        char_dict[char] += 1\n",
    "    else:\n",
    "        char_dict[char] = 1\n",
    "#initiate largest and smallest count with last char\n",
    "min_count = char_dict[char]\n",
    "max_count = char_dict[char]\n",
    "# count how many times a count occured\n",
    "\n",
    "print(char_dict)\n",
    "count_dict = {}\n",
    "for char, value in char_dict.items():\n",
    "    if value in count_dict:\n",
    "        count_dict[value] += 1\n",
    "    else:\n",
    "        count_dict[value] = 1\n",
    "    #also update max and min count\n",
    "    if value < min_count:\n",
    "        min_count = value\n",
    "    if value > max_count:\n",
    "        max_count = value\n",
    "# final test:\n",
    "if len(count_dict) == 1:\n",
    "    return 'YES'\n",
    "elif len(count_dict) == 2:\n",
    "    if count_dict[max_count] == 1 and max_count - min_count == 1:\n",
    "        return 'YES'\n",
    "    elif count_dict[min_count] == 1 and min_count == 1:\n",
    "        return 'YES'\n",
    "return 'NO'"
   ]
  },
  {
   "cell_type": "code",
   "execution_count": 148,
   "metadata": {},
   "outputs": [],
   "source": [
    "s = 'aaaabbcc'"
   ]
  },
  {
   "cell_type": "code",
   "execution_count": 149,
   "metadata": {},
   "outputs": [],
   "source": [
    "s = Counter(s)"
   ]
  },
  {
   "cell_type": "code",
   "execution_count": 150,
   "metadata": {},
   "outputs": [],
   "source": [
    "temp = list(s.values())\n",
    "min_count = min(temp)\n",
    "max_count = max(temp)"
   ]
  },
  {
   "cell_type": "code",
   "execution_count": 151,
   "metadata": {},
   "outputs": [],
   "source": [
    "count = Counter(temp)"
   ]
  },
  {
   "cell_type": "code",
   "execution_count": 152,
   "metadata": {},
   "outputs": [
    {
     "data": {
      "text/plain": [
       "Counter({4: 1, 2: 2})"
      ]
     },
     "execution_count": 152,
     "metadata": {},
     "output_type": "execute_result"
    }
   ],
   "source": [
    "count"
   ]
  },
  {
   "cell_type": "code",
   "execution_count": 153,
   "metadata": {},
   "outputs": [
    {
     "data": {
      "text/plain": [
       "(2, 4)"
      ]
     },
     "execution_count": 153,
     "metadata": {},
     "output_type": "execute_result"
    }
   ],
   "source": [
    "min_count , max_count"
   ]
  },
  {
   "cell_type": "code",
   "execution_count": 156,
   "metadata": {},
   "outputs": [
    {
     "name": "stdout",
     "output_type": "stream",
     "text": [
      "[-7, 0, 3]\n"
     ]
    }
   ],
   "source": [
    "a = [3,-7,0]\n",
    "a.sort()\n",
    "print(a)"
   ]
  },
  {
   "cell_type": "code",
   "execution_count": 166,
   "metadata": {},
   "outputs": [],
   "source": [
    "li=[[5, 1],\n",
    "... [2, 1],\n",
    "... [1, 1],\n",
    "... [8, 1],\n",
    "   [10,0],\n",
    "   [5,0]]"
   ]
  },
  {
   "cell_type": "code",
   "execution_count": 168,
   "metadata": {},
   "outputs": [],
   "source": [
    "k=3\n",
    "contests = sorted(li, key = lambda ele:ele[0], reverse=True)"
   ]
  },
  {
   "cell_type": "code",
   "execution_count": 169,
   "metadata": {},
   "outputs": [
    {
     "data": {
      "text/plain": [
       "[[10, 0], [8, 1], [5, 1], [5, 0], [2, 1], [1, 1]]"
      ]
     },
     "execution_count": 169,
     "metadata": {},
     "output_type": "execute_result"
    }
   ],
   "source": [
    "contests"
   ]
  },
  {
   "cell_type": "code",
   "execution_count": 170,
   "metadata": {},
   "outputs": [
    {
     "name": "stdout",
     "output_type": "stream",
     "text": [
      "10 0\n",
      "8 1\n",
      "5 1\n",
      "5 0\n",
      "2 1\n",
      "1 1\n"
     ]
    }
   ],
   "source": [
    "total_luck = 0\n",
    "for i in range(len(contests)):\n",
    "    luck = contests[i][0]\n",
    "    imp =  contests[i][1]\n",
    "    if imp == 1 and k > 0:\n",
    "        k -= 1\n",
    "        total_luck += luck\n",
    "    elif imp == 1 and k == 0:\n",
    "        total_luck -= luck\n",
    "    if imp == 0:\n",
    "        total_luck += luck\n",
    "        "
   ]
  },
  {
   "cell_type": "code",
   "execution_count": 194,
   "metadata": {},
   "outputs": [],
   "source": [
    "arr = [10,100,200,300,20,30,1000]\n",
    "k = 3 "
   ]
  },
  {
   "cell_type": "code",
   "execution_count": 200,
   "metadata": {},
   "outputs": [
    {
     "name": "stdout",
     "output_type": "stream",
     "text": [
      "[10, 20, 30, 100, 200, 300, 1000]\n",
      "20\n",
      "10 30\n",
      "Res : 20\n",
      "20 100\n",
      "Res : 80\n",
      "30 200\n",
      "Res : 170\n"
     ]
    }
   ],
   "source": [
    "arr.sort()\n",
    "print(arr)\n",
    "result = arr[k-1] - arr[0]\n",
    "print(result)\n",
    "for i in range(n-k+1):\n",
    "    print(arr[i], arr[i+k-1])\n",
    "    print(f'Res : {arr[i+k-1] - arr[i]}' )\n",
    "    if arr[i+k-1] - arr[i] < result:\n",
    "        result = arr[i+k-1] - arr[i]"
   ]
  },
  {
   "cell_type": "code",
   "execution_count": 191,
   "metadata": {},
   "outputs": [
    {
     "data": {
      "text/plain": [
       "[2, 3, 4]"
      ]
     },
     "execution_count": 191,
     "metadata": {},
     "output_type": "execute_result"
    }
   ],
   "source": [
    "for i in range()"
   ]
  },
  {
   "cell_type": "code",
   "execution_count": null,
   "metadata": {},
   "outputs": [],
   "source": []
  },
  {
   "cell_type": "code",
   "execution_count": 7,
   "metadata": {},
   "outputs": [
    {
     "name": "stdout",
     "output_type": "stream",
     "text": [
      "Time : 0 ITEMS : 0\n",
      "Time : 0 ITEMS : 0\n",
      "Time : 0 ITEMS : 0\n",
      "Time : 1 ITEMS : 1\n",
      "Time : 1 ITEMS : 1\n",
      "Time : 1 ITEMS : 1\n",
      "Time : 2 ITEMS : 2\n",
      "Time : 2 ITEMS : 3\n",
      "Time : 2 ITEMS : 3\n",
      "Time : 3 ITEMS : 3\n",
      "Time : 3 ITEMS : 4\n",
      "Time : 3 ITEMS : 5\n",
      "Time : 4 ITEMS : 4\n",
      "Time : 4 ITEMS : 6\n",
      "Time : 4 ITEMS : 7\n",
      "Time : 5 ITEMS : 5\n",
      "Time : 5 ITEMS : 7\n",
      "Time : 5 ITEMS : 8\n",
      "Time : 6 ITEMS : 6\n",
      "Time : 6 ITEMS : 9\n",
      "Time : 6 ITEMS : 11\n",
      "6\n"
     ]
    }
   ],
   "source": [
    "def minTime(arr, n, m): \n",
    "  \n",
    "    # Intialise time, items equal to 0. \n",
    "    t = 0\n",
    "  \n",
    "    while (1): \n",
    "      \n",
    "        items = 0\n",
    "  \n",
    "        # Calculating items at each second \n",
    "        for i in range(n): \n",
    "            print(f'Time : {t}',end=' ')\n",
    "#             print(t // arr[i],end=' ')\n",
    "            items += (t // arr[i]) \n",
    "            print(f'ITEMS : {items}')\n",
    "  \n",
    "        # If items equal to m return time. \n",
    "        if (items >= m): \n",
    "            return t \n",
    "  \n",
    "        t += 1 # Increment time \n",
    "      \n",
    "# Driver Code \n",
    "arr = [1, 2, 3]  \n",
    "n = len(arr) \n",
    "m = 11\n",
    "  \n",
    "print(minTime(arr, n, m) )"
   ]
  },
  {
   "cell_type": "code",
   "execution_count": 8,
   "metadata": {},
   "outputs": [
    {
     "data": {
      "text/plain": [
       "5"
      ]
     },
     "execution_count": 8,
     "metadata": {},
     "output_type": "execute_result"
    }
   ],
   "source": [
    "1+10 >> 1"
   ]
  },
  {
   "cell_type": "code",
   "execution_count": 9,
   "metadata": {},
   "outputs": [],
   "source": [
    "machines = [1,2,3]"
   ]
  },
  {
   "cell_type": "code",
   "execution_count": 10,
   "metadata": {},
   "outputs": [
    {
     "data": {
      "text/plain": [
       "2"
      ]
     },
     "execution_count": 10,
     "metadata": {},
     "output_type": "execute_result"
    }
   ],
   "source": [
    "machines[1]"
   ]
  },
  {
   "cell_type": "code",
   "execution_count": null,
   "metadata": {},
   "outputs": [],
   "source": []
  }
 ],
 "metadata": {
  "kernelspec": {
   "display_name": "Python 3",
   "language": "python",
   "name": "python3"
  },
  "language_info": {
   "codemirror_mode": {
    "name": "ipython",
    "version": 3
   },
   "file_extension": ".py",
   "mimetype": "text/x-python",
   "name": "python",
   "nbconvert_exporter": "python",
   "pygments_lexer": "ipython3",
   "version": "3.7.1"
  }
 },
 "nbformat": 4,
 "nbformat_minor": 2
}
